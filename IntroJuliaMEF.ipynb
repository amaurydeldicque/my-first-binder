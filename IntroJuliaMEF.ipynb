{
 "cells": [
  {
   "cell_type": "markdown",
   "metadata": {},
   "source": [
    "# Voici un notebook (carnet de notes) dans le langage Julia pour la découverte du calcul de structures élastiques par la méthode des éléments finis\n",
    "\n",
    "Il faudra préalablement avoir quelques notions de [Julia](https://julialang.org/)\n",
    "\n",
    "## Présentation de Zéro à Julia"
   ]
  },
  {
   "cell_type": "code",
   "execution_count": null,
   "metadata": {},
   "outputs": [],
   "source": [
    "a=1"
   ]
  },
  {
   "cell_type": "code",
   "execution_count": null,
   "metadata": {},
   "outputs": [],
   "source": [
    "function foo()\n",
    "    println(\"Hello World!\")\n",
    "end"
   ]
  },
  {
   "cell_type": "code",
   "execution_count": null,
   "metadata": {},
   "outputs": [],
   "source": [
    "foo()"
   ]
  },
  {
   "cell_type": "markdown",
   "metadata": {},
   "source": [
    "Pour écrire une matrice (4,4) et l'affecter à la variable $k_e$ on écrit:"
   ]
  },
  {
   "cell_type": "code",
   "execution_count": null,
   "metadata": {},
   "outputs": [],
   "source": [
    "ke=[1 0 -1 0 ; 0 0 0 0 ; -1 0 1 0 ; 0 0 0 0]"
   ]
  },
  {
   "cell_type": "markdown",
   "metadata": {},
   "source": [
    "En n'oubliant pas que l'on doit multiplier la matrice précédente par la raideur de barre $\\frac{E*S}{L}$ pour avoir la matrice de raideur élémentaire"
   ]
  },
  {
   "cell_type": "markdown",
   "metadata": {},
   "source": [
    "on trouve pour $k_e=\\frac{E*S}{L}\n",
    "\\begin{bmatrix}\n",
    "1 & 0 & -1 & 0\\\\\n",
    "0 & 0 & 0 & 0\\\\\n",
    "-1 & 0 & 1 & 0\\\\\n",
    "0 & 0 & 0 & 0\n",
    "\\end{bmatrix}$"
   ]
  },
  {
   "cell_type": "markdown",
   "metadata": {},
   "source": [
    "Si l'on affecte au module de Young $E$, à la section $S$ et à la longueur $L$ de la barre leur valeur correspondante"
   ]
  },
  {
   "cell_type": "code",
   "execution_count": null,
   "metadata": {},
   "outputs": [],
   "source": [
    "E=210000;S=100;L=1000;"
   ]
  },
  {
   "cell_type": "markdown",
   "metadata": {},
   "source": [
    "on trouve pour $k_e$"
   ]
  },
  {
   "cell_type": "code",
   "execution_count": null,
   "metadata": {},
   "outputs": [],
   "source": [
    "ke=E*S/L*[1 0 -1 0 ; 0 0 0 0 ; -1 0 1 0 ; 0 0 0 0]"
   ]
  },
  {
   "cell_type": "code",
   "execution_count": null,
   "metadata": {},
   "outputs": [],
   "source": []
  }
 ],
 "metadata": {
  "kernelspec": {
   "display_name": "Julia 1.4.2",
   "language": "julia",
   "name": "julia-1.4"
  },
  "language_info": {
   "file_extension": ".jl",
   "mimetype": "application/julia",
   "name": "julia",
   "version": "1.4.2"
  }
 },
 "nbformat": 4,
 "nbformat_minor": 4
}
